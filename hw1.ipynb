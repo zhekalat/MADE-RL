{
 "cells": [
  {
   "cell_type": "code",
   "execution_count": 132,
   "metadata": {},
   "outputs": [],
   "source": [
    "import numpy as np\n",
    "from collections import defaultdict\n",
    "from datetime import datetime\n",
    "import scipy.stats as st\n",
    "from itertools import product\n",
    "from tqdm import tqdm\n",
    "import random\n",
    "import gym\n",
    "from gym.envs.toy_text.blackjack import BlackjackEnv\n",
    "from gym import spaces\n",
    "\n",
    "import matplotlib.pyplot as plt\n",
    "%matplotlib inline"
   ]
  },
  {
   "cell_type": "markdown",
   "metadata": {},
   "source": [
    "## Часть первая, с блекджеком и стратегиями\n",
    "\n",
    "1) Рассмотрим очень простую стратегию: говорить stand, если у нас на руках комбинация в 19, 20 или 21 очко, во всех остальных случаях говорить hit. Используйте методы Монте-Карло, чтобы оценить выигрыш от этой стратегии.  \n",
    "2) Реализуйте метод обучения с подкреплением без модели (можно Q-обучение, но рекомендую попробовать и другие, например Monte Carlo control) для обучения стратегии в блекджеке, используя окружение Blackjack-v0 из OpenAI Gym.  \n",
    "3) Сколько выигрывает казино у вашей стратегии? Нарисуйте графики среднего дохода вашего метода (усреднённого по крайней мере по 100000 раздач, а лучше больше) по ходу обучения. Попробуйте подобрать оптимальные гиперпараметры."
   ]
  },
  {
   "cell_type": "code",
   "execution_count": 133,
   "metadata": {},
   "outputs": [],
   "source": [
    "env = gym.make('Blackjack-v0', natural=True)"
   ]
  },
  {
   "cell_type": "code",
   "execution_count": 140,
   "metadata": {},
   "outputs": [],
   "source": [
    "def simple_policy(env, *args, **kwargs):\n",
    "    return int(env._get_obs()[0] < 19)"
   ]
  },
  {
   "cell_type": "code",
   "execution_count": 141,
   "metadata": {},
   "outputs": [],
   "source": [
    "def generate_episode(env, policy, *args, **kwargs):\n",
    "    states, actions, rewards = [], [], []\n",
    "    state = env.reset()\n",
    "    while True:\n",
    "        action = policy(env, *args, **kwargs)\n",
    "        next_state, reward, done, _ = env.step(action)\n",
    "        \n",
    "        states.append(state)\n",
    "        actions.append(action)\n",
    "        rewards.append(reward)\n",
    "        \n",
    "        state = next_state\n",
    "        if done:\n",
    "            break\n",
    "    return states, actions, rewards"
   ]
  },
  {
   "cell_type": "code",
   "execution_count": 142,
   "metadata": {},
   "outputs": [],
   "source": [
    "def first_visit_mc_prediction(env, policy, n_episodes, *args, **kwargs):\n",
    "    values = defaultdict(float)\n",
    "    episode_rewards = []\n",
    "    N = defaultdict(int)\n",
    "    \n",
    "    for _ in range(n_episodes):\n",
    "        states, actions, rewards = generate_episode(env, policy, *args, **kwargs)\n",
    "        episode_rewards.append(rewards[-1])\n",
    "        \n",
    "        returns = 0\n",
    "        for t in range(len(states) - 1, -1, -1):\n",
    "            R = rewards[t]\n",
    "            S = states[t]\n",
    "            returns += R\n",
    "            if S not in states[:t]:\n",
    "                N[S] += 1\n",
    "                values[S] += (returns - values[S]) / N[S]\n",
    "    return values, episode_rewards"
   ]
  },
  {
   "cell_type": "code",
   "execution_count": 143,
   "metadata": {},
   "outputs": [],
   "source": [
    "values, rewards = first_visit_mc_prediction(env, simple_policy, n_episodes=500000, gamma=0.2, epsilon_start=1.0, epsilon_decay=0.99999, epsilon_min=0.01)"
   ]
  },
  {
   "cell_type": "code",
   "execution_count": 144,
   "metadata": {},
   "outputs": [
    {
     "data": {
      "text/plain": [
       "'Средний выигрыш простейшей стратегии: -0.17989'"
      ]
     },
     "execution_count": 144,
     "metadata": {},
     "output_type": "execute_result"
    }
   ],
   "source": [
    "f\"Средний выигрыш простейшей стратегии: {np.mean(rewards)}\""
   ]
  },
  {
   "cell_type": "markdown",
   "metadata": {},
   "source": [
    "#### Реализуем Monte Carlo control"
   ]
  },
  {
   "cell_type": "code",
   "execution_count": 145,
   "metadata": {},
   "outputs": [],
   "source": [
    "def eps_greedy_policy(env, epsilon, Q):\n",
    "    state = env._get_obs()\n",
    "    if random.random() > epsilon:\n",
    "        return Q[state].argmax()\n",
    "    else:\n",
    "        return random.randint(0, env.action_space.n - 1)"
   ]
  },
  {
   "cell_type": "code",
   "execution_count": 146,
   "metadata": {},
   "outputs": [],
   "source": [
    "def mc_control(env, policy, n_episodes, gamma, epsilon_start, epsilon_decay, epsilon_min):\n",
    "    nA = env.action_space.n\n",
    "    Q = defaultdict(lambda: np.zeros(nA))\n",
    "    N = defaultdict(int)\n",
    "    mean_rewards = []\n",
    "    epsilon = epsilon_start\n",
    "    \n",
    "    for i in tqdm(range(n_episodes)):\n",
    "        states, actions, rewards = generate_episode(env, eps_greedy_policy, epsilon=epsilon, Q=Q)\n",
    "\n",
    "        sa = list(zip(states, actions))\n",
    "        G = 0\n",
    "        for t in range(len(states) - 1, -1, -1):\n",
    "            G = gamma * G + rewards[t]\n",
    "            if (states[t], actions[t]) not in sa[:t]:\n",
    "                N[(states[t], actions[t])] += 1\n",
    "                Q[states[t]][actions[t]] += (G - Q[states[t]][actions[t]]) / N[(states[t], actions[t])]\n",
    "                \n",
    "        # Estimate current policy performance\n",
    "        if i % 30000 == 0:\n",
    "            episode_rewards = []\n",
    "            for _ in range(100000):\n",
    "                states, actions, rewards = generate_episode(env, eps_greedy_policy, epsilon=epsilon, Q=Q)\n",
    "                episode_rewards.append(rewards[-1])\n",
    "            mean_rewards.append(np.mean(episode_rewards))\n",
    "        \n",
    "        epsilon = max(epsilon * epsilon_decay, epsilon_min)\n",
    "    \n",
    "    best_policy = lambda env, Q: eps_greedy_strategy(env, 0, Q)\n",
    "    return best_policy, Q, mean_rewards"
   ]
  },
  {
   "cell_type": "code",
   "execution_count": 173,
   "metadata": {},
   "outputs": [
    {
     "name": "stderr",
     "output_type": "stream",
     "text": [
      "100%|███████████████████████████████████████████████████████████████████████████████████| 500000/500000 [01:20<00:00, 6172.97it/s]\n"
     ]
    }
   ],
   "source": [
    "best_policy, best_Q, episode_rewards = mc_control(env, eps_greedy_policy, n_episodes=500000, gamma=1.0, epsilon_start=1.0, epsilon_decay=0.99999, epsilon_min=0.01)"
   ]
  },
  {
   "cell_type": "code",
   "execution_count": 174,
   "metadata": {},
   "outputs": [
    {
     "data": {
      "text/plain": [
       "'Средний выигрыш MC control: -0.048065'"
      ]
     },
     "execution_count": 174,
     "metadata": {},
     "output_type": "execute_result"
    }
   ],
   "source": [
    "f\"Средний выигрыш MC control: {episode_rewards[-1]}\""
   ]
  },
  {
   "cell_type": "code",
   "execution_count": 175,
   "metadata": {},
   "outputs": [
    {
     "data": {
      "image/png": "[encoded data removed]",
      "text/plain": [
       "<Figure size 720x432 with 1 Axes>"
      ]
     },
     "metadata": {
      "needs_background": "light"
     },
     "output_type": "display_data"
    }
   ],
   "source": [
    "plt.figure(figsize = (10, 6))\n",
    "plt.title('Reward estimation during training', fontsize=18)\n",
    "plt.xlabel('Episodes', fontsize=16)\n",
    "plt.ylabel('Mean reward', fontsize=16)\n",
    "plt.plot(np.arange(1, len(episode_rewards)+1) * 30000, episode_rewards)\n",
    "plt.show()"
   ]
  },
  {
   "cell_type": "markdown",
   "metadata": {},
   "source": [
    "## Часть вторая, удвоенная\n",
    "\n",
    "В базовый блекджек, описанный в предыдущем разделе, обыграть казино вряд ли получится. Но, к счастью, на этом история не заканчивается. Описанные выше правила были упрощёнными, а на самом деле у игрока есть ещё и другие возможности. Реализовывать split может оказаться непросто, поэтому давайте ограничимся удвоением ставки. Итак, у игрока появляется дополнительное действие: double — удвоить ставку; при этом больше действий делать нельзя, игроку выдаётся ровно одна дополнительная карта, а выигрыш или проигрыш удваивается.\n",
    "\n",
    "4) Реализуйте новый вариант блекджека на основе окружения Blackjack-v0 из OpenAI Gym, в котором разрешено удвоение ставки.  \n",
    "5) Реализуйте метод обучения с подкреплением без модели для этого варианта, постройте графики, аналогичные п.2.  "
   ]
  },
  {
   "cell_type": "code",
   "execution_count": 150,
   "metadata": {},
   "outputs": [],
   "source": [
    "class DoubleBlackjackEnv(BlackjackEnv):\n",
    "    def __init__(self, *args, **kwargs):\n",
    "        super(DoubleBlackjackEnv, self).__init__(*args, **kwargs)\n",
    "        \n",
    "        self.action_space = spaces.Discrete(3)\n",
    "        self.reset()\n",
    "        \n",
    "    def step(self, action):\n",
    "        if action == 2:\n",
    "            state, reward, done, _ = super(DoubleBlackjackEnv, self).step(1)\n",
    "            if not done:\n",
    "                state, reward, done, _ = super(DoubleBlackjackEnv, self).step(0)\n",
    "            reward = reward * 2\n",
    "        else:\n",
    "            state, reward, done, _ = super(DoubleBlackjackEnv, self).step(action)\n",
    "\n",
    "        return state, reward, done, _"
   ]
  },
  {
   "cell_type": "code",
   "execution_count": 151,
   "metadata": {},
   "outputs": [],
   "source": [
    "env_double = DoubleBlackjackEnv()"
   ]
  },
  {
   "cell_type": "code",
   "execution_count": 179,
   "metadata": {},
   "outputs": [
    {
     "name": "stderr",
     "output_type": "stream",
     "text": [
      "100%|█████████████████████████████████████████████████████████████████████████████████| 1000000/1000000 [02:47<00:00, 5972.66it/s]\n"
     ]
    }
   ],
   "source": [
    "best_policy, best_Q, episode_rewards = mc_control(env_double, eps_greedy_policy, n_episodes=1000000, gamma=0.4, epsilon_start=1.0, epsilon_decay=0.99999, epsilon_min=0.01)"
   ]
  },
  {
   "cell_type": "code",
   "execution_count": 180,
   "metadata": {},
   "outputs": [
    {
     "data": {
      "text/plain": [
       "'Средний выигрыш MC control с double: -0.04736'"
      ]
     },
     "execution_count": 180,
     "metadata": {},
     "output_type": "execute_result"
    }
   ],
   "source": [
    "f\"Средний выигрыш MC control с double: {episode_rewards[-1]}\""
   ]
  },
  {
   "cell_type": "code",
   "execution_count": 181,
   "metadata": {},
   "outputs": [
    {
     "data": {
      "image/png": "[encoded data removed]",
      "text/plain": [
       "<Figure size 720x432 with 1 Axes>"
      ]
     },
     "metadata": {
      "needs_background": "light"
     },
     "output_type": "display_data"
    }
   ],
   "source": [
    "plt.figure(figsize = (10, 6))\n",
    "plt.title('Reward estimation during training', fontsize=18)\n",
    "plt.xlabel('Episodes', fontsize=16)\n",
    "plt.ylabel('Mean reward', fontsize=16)\n",
    "plt.plot(np.arange(1, len(episode_rewards)+1) * 30000, episode_rewards)\n",
    "plt.show()"
   ]
  },
  {
   "cell_type": "markdown",
   "metadata": {},
   "source": [
    "## Часть третья, в главной роли — Дастин Хоффман\n",
    "\n",
    "А теперь давайте вспомним, как играют в блекджек настоящие профессионалы. Дело в том, что в оффлайн-казино обычно не перемешивают колоду после каждой раздачи — это слишком замедляло бы игру. После раздачи карты просто раздаются дальше с верха колоды до тех пор, пока карт не останется слишком мало, и только тогда колода перемешивается; давайте для определённости считать, что наше казино будет перемешивать колоду, в которой осталось меньше 15 карт.\n",
    "\n",
    "Действительно, если вы будете запоминать, какие карты уже вышли, у вас будет информация о том, какие карты ещё остались, а это позволяет лучше понять, когда нужно удваивать ставку или делать split, а когда лучше не стоит. В настоящем казино могут раздавать карты сразу из нескольких колод, и заслуга Rain Man’а была в том, что он смог считать карты в шести колодах одновременно. Но мы с вами вооружены компьютерами, так что подсчёт можно считать автоматическим.\n",
    "\n",
    "6) Реализуйте вариант окружения Blackjack-v0 из предыдущей части (с удвоением), в котором игрок имеет возможность “считать карты” в колоде. Это можно сделать разными способами; возможно, вам поможет статья википедии о блекджеке (а возможно, и нет).  \n",
    "7) Реализуйте метод обучения с подкреплением без модели для этого варианта, постройте графики, аналогичные п.2.  "
   ]
  },
  {
   "cell_type": "code",
   "execution_count": 155,
   "metadata": {},
   "outputs": [],
   "source": [
    "def cmp(a, b):\n",
    "    return float(a > b) - float(a < b)\n",
    "\n",
    "\n",
    "def usable_ace(hand):  # Does this hand have a usable ace?\n",
    "    return 1 in hand and sum(hand) + 10 <= 21\n",
    "\n",
    "\n",
    "def sum_hand(hand):  # Return current hand total\n",
    "    if usable_ace(hand):\n",
    "        return sum(hand) + 10\n",
    "    return sum(hand)\n",
    "\n",
    "\n",
    "def is_bust(hand):  # Is this hand a bust?\n",
    "    return sum_hand(hand) > 21\n",
    "\n",
    "\n",
    "def score(hand):  # What is the score of this hand (0 if bust)\n",
    "    return 0 if is_bust(hand) else sum_hand(hand)\n",
    "\n",
    "\n",
    "def is_natural(hand):  # Is this hand a natural blackjack?\n",
    "    return sorted(hand) == [1, 10]"
   ]
  },
  {
   "cell_type": "code",
   "execution_count": 156,
   "metadata": {},
   "outputs": [],
   "source": [
    "class CountingBlackjackEnv(BlackjackEnv):\n",
    "    def __init__(self, *args, **kwargs):\n",
    "        self.card_values = {\n",
    "            1: -1,\n",
    "            2: 1,\n",
    "            3: 1,\n",
    "            4: 1,\n",
    "            5: 1,\n",
    "            6: 1,\n",
    "            7: 0,\n",
    "            8: 0,\n",
    "            9: 0,\n",
    "            10: -1,\n",
    "        }\n",
    "        \n",
    "        self.dealer = []\n",
    "        self.player = []\n",
    "        self.shuffle_deck()\n",
    "        \n",
    "        super(CountingBlackjackEnv, self).__init__(*args, **kwargs)\n",
    "        \n",
    "        self.action_space = spaces.Discrete(3)\n",
    "        self.observation_space = spaces.Tuple((\n",
    "            spaces.Discrete(32),\n",
    "            spaces.Discrete(11),\n",
    "            spaces.Discrete(2),\n",
    "            spaces.Discrete(21))),\n",
    "\n",
    "    def _get_obs(self):\n",
    "        return (sum_hand(self.player), self.dealer[0], usable_ace(self.player), self.deck_counter())\n",
    "    \n",
    "    def deck_counter(self):\n",
    "        status = self.counter\n",
    "        if status < -10:\n",
    "            status = -10\n",
    "        elif status > 10:\n",
    "            status = 10\n",
    "        return status + 10\n",
    "\n",
    "    def shuffle_deck(self):\n",
    "        self.deck = [1, 2, 3, 4, 5, 6, 7, 8, 9, 10, 10, 10, 10] * 4\n",
    "        random.shuffle(self.deck)\n",
    "        self.counter = 0\n",
    "    \n",
    "    def reset(self):\n",
    "        self.dealer = []\n",
    "        self.dealer.append(self.get_card())\n",
    "        self.dealer.append(self.get_card(visible=False))\n",
    "        \n",
    "        self.player = []\n",
    "        self.player.append(self.get_card())\n",
    "        self.player.append(self.get_card())\n",
    "        return self._get_obs()\n",
    "    \n",
    "    def get_card(self, visible=True):\n",
    "        card = self.deck.pop()\n",
    "        self.counter += self.card_values[card]\n",
    "        return card\n",
    "    \n",
    "    def step(self, action):\n",
    "        if action == 2:\n",
    "            done = True\n",
    "            self.player.append(self.get_card())\n",
    "            if is_bust(self.player):\n",
    "                reward = -1.\n",
    "            else:\n",
    "                while sum_hand(self.dealer) < 17:\n",
    "                    self.dealer.append(self.get_card())\n",
    "                reward = cmp(score(self.player), score(self.dealer))\n",
    "            if self.natural and is_natural(self.player) and reward == 2.:\n",
    "                reward = 1.5\n",
    "            \n",
    "            reward *= 2\n",
    "            \n",
    "        elif action == 1:\n",
    "            self.player.append(self.get_card())\n",
    "            if is_bust(self.player):\n",
    "                done = True\n",
    "                reward = -1.\n",
    "            else:\n",
    "                done = False\n",
    "                reward = 0.\n",
    "        else:\n",
    "            done = True\n",
    "            while sum_hand(self.dealer) < 17:\n",
    "                self.dealer.append(self.get_card())\n",
    "            reward = cmp(score(self.player), score(self.dealer))\n",
    "            if self.natural and is_natural(self.player) and reward == 1.:\n",
    "                reward = 1.5\n",
    "        \n",
    "        if len(self.deck) < 15:\n",
    "            self.shuffle_deck()\n",
    "\n",
    "        return self._get_obs(), reward, done, {}"
   ]
  },
  {
   "cell_type": "code",
   "execution_count": 157,
   "metadata": {},
   "outputs": [],
   "source": [
    "env_counting = CountingBlackjackEnv()"
   ]
  },
  {
   "cell_type": "code",
   "execution_count": 182,
   "metadata": {},
   "outputs": [
    {
     "name": "stderr",
     "output_type": "stream",
     "text": [
      "100%|██████████████████████████████████████████████████████████████████████████████| 10000000/10000000 [10:46<00:00, 15473.16it/s]\n"
     ]
    }
   ],
   "source": [
    "best_policy, best_Q, episode_rewards = mc_control(env_counting, eps_greedy_policy, n_episodes=10000000, gamma=0.2, epsilon_start=1.0, epsilon_decay=0.999999, epsilon_min=0.01)"
   ]
  },
  {
   "cell_type": "code",
   "execution_count": 183,
   "metadata": {},
   "outputs": [
    {
     "data": {
      "text/plain": [
       "'Средний выигрыш MC control с double и подсчётом карт: -0.01994'"
      ]
     },
     "execution_count": 183,
     "metadata": {},
     "output_type": "execute_result"
    }
   ],
   "source": [
    "f\"Средний выигрыш MC control с double и подсчётом карт: {episode_rewards[-1]}\""
   ]
  },
  {
   "cell_type": "code",
   "execution_count": 184,
   "metadata": {},
   "outputs": [
    {
     "data": {
      "image/png": "[encoded data removed]",
      "text/plain": [
       "<Figure size 720x432 with 1 Axes>"
      ]
     },
     "metadata": {
      "needs_background": "light"
     },
     "output_type": "display_data"
    }
   ],
   "source": [
    "plt.figure(figsize = (10, 6))\n",
    "plt.title('Reward estimation during training', fontsize=18)\n",
    "plt.xlabel('Episodes', fontsize=16)\n",
    "plt.ylabel('Mean reward', fontsize=16)\n",
    "plt.plot(np.arange(1, len(episode_rewards)+1) * 30000, episode_rewards)\n",
    "plt.show()"
   ]
  },
  {
   "cell_type": "code",
   "execution_count": null,
   "metadata": {},
   "outputs": [],
   "source": []
  }
 ],
 "metadata": {
  "kernelspec": {
   "display_name": "Python 3",
   "language": "python",
   "name": "python3"
  },
  "language_info": {
   "codemirror_mode": {
    "name": "ipython",
    "version": 3
   },
   "file_extension": ".py",
   "mimetype": "text/x-python",
   "name": "python",
   "nbconvert_exporter": "python",
   "pygments_lexer": "ipython3",
   "version": "3.7.4"
  }
 },
 "nbformat": 4,
 "nbformat_minor": 4
}
